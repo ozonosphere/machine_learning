{
 "cells": [
  {
   "cell_type": "code",
   "execution_count": 177,
   "metadata": {},
   "outputs": [],
   "source": [
    "%matplotlib inline\n",
    "from data import get_data_from_mat\n",
    "from pandas import DataFrame\n",
    "import scipy.misc as smp\n",
    "import matplotlib.pyplot as plt\n",
    "import seaborn\n",
    "import pandas\n",
    "import numpy\n",
    "from algos import process_data_by_classification_and_set\n",
    "seaborn.set(style='darkgrid')\n",
    "seaborn.set_context('notebook')\n"
   ]
  },
  {
   "cell_type": "markdown",
   "metadata": {},
   "source": [
    "# One-vs-All logistic regression multi-class multification"
   ]
  },
  {
   "cell_type": "markdown",
   "metadata": {},
   "source": [
    "#### Getting data and setting training set size"
   ]
  },
  {
   "cell_type": "code",
   "execution_count": 242,
   "metadata": {},
   "outputs": [],
   "source": [
    "training_set_lenth = 4000\n",
    "\n",
    "original_data = get_data_from_mat('ex3data1.mat')\n",
    "# initial_weights_data = get_data_from_mat('ex3weights.mat')\n",
    "x_data = DataFrame(original_data['X'])\n",
    "y_data = DataFrame(original_data['y'])\n",
    "y_data.columns = ['y']\n",
    "xy_data_df = pandas.concat([x_data, y_data], axis='columns')\n",
    "data_store_dictionary = process_data_by_classification_and_set(xy_data_df, training_set_lenth)\n",
    "training_data_set = data_store_dictionary[0]['training_set']\n",
    "testing_data_set = data_store_dictionary[0]['testing_set']\n",
    "training_y_variable_arrays = data_store_dictionary[1]\n",
    "training_x_variable_array = training_data_set.values[:, :-1]\n",
    "testing_x_variable_array = testing_data_set.values[:, :-1]\n",
    "\n",
    "\n"
   ]
  },
  {
   "cell_type": "code",
   "execution_count": 246,
   "metadata": {
    "scrolled": true
   },
   "outputs": [],
   "source": [
    "# plt.imshow(x_data, cmap='gray', aspect='auto')\n",
    "# plt.xlim(200, 250)\n",
    "# plt.ylim(0, 50)\n"
   ]
  },
  {
   "cell_type": "code",
   "execution_count": null,
   "metadata": {},
   "outputs": [],
   "source": []
  }
 ],
 "metadata": {
  "kernelspec": {
   "display_name": "Python 3",
   "language": "python",
   "name": "python3"
  },
  "language_info": {
   "codemirror_mode": {
    "name": "ipython",
    "version": 3
   },
   "file_extension": ".py",
   "mimetype": "text/x-python",
   "name": "python",
   "nbconvert_exporter": "python",
   "pygments_lexer": "ipython3",
   "version": "3.6.4"
  }
 },
 "nbformat": 4,
 "nbformat_minor": 2
}
